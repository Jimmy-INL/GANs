{
 "cells": [
  {
   "cell_type": "markdown",
   "metadata": {},
   "source": [
    "<h3>Info</h3>\n",
    "When I reviewed the concept of GANs, the first thing that I did was to create a network of my own without any help from GitHub or Stackoverflow suggestions/code. This is the verison that I ended up creating. <br>\n",
    "<h3>Instructions</h3>\n",
    "To use this version you have to alternatively generate the discriminator and the generator as in first train discriminator to be better at fooling the generator and then do the opposite: train the generator to outdo the discriminator"
   ]
  },
  {
   "cell_type": "code",
   "execution_count": 1,
   "metadata": {},
   "outputs": [],
   "source": [
    "import tensorflow as tf\n",
    "physical_devices = tf.config.experimental.list_physical_devices('GPU') \n",
    "try: \n",
    "  tf.config.experimental.set_memory_growth(physical_devices[0], True) \n",
    "except: \n",
    "  # Invalid device or cannot modify virtual devices once initialized. \n",
    "  pass \n",
    "\n",
    "import matplotlib.pyplot as plt\n",
    "import numpy as np\n",
    "import random\n",
    "from tqdm import tqdm\n",
    "from IPython.display import clear_output\n",
    "from sklearn.metrics import accuracy_score"
   ]
  },
  {
   "cell_type": "markdown",
   "metadata": {},
   "source": [
    "<b>Hyper Parameters</b>"
   ]
  },
  {
   "cell_type": "code",
   "execution_count": 5,
   "metadata": {},
   "outputs": [],
   "source": [
    "batch_size = 32\n",
    "codings_size = 30"
   ]
  },
  {
   "cell_type": "markdown",
   "metadata": {},
   "source": [
    "<b> Load Dataset </b>"
   ]
  },
  {
   "cell_type": "code",
   "execution_count": 3,
   "metadata": {},
   "outputs": [],
   "source": [
    "mnist = tf.keras.datasets.mnist\n",
    "(train_images, train_labels), (test_images, test_labels) = mnist.load_data()\n",
    "train_images = (np.expand_dims(train_images, axis=-1)/255.).astype(np.float32)\n",
    "train_labels = (train_labels).astype(np.int64)\n",
    "test_images = (np.expand_dims(test_images, axis=-1)/255.).astype(np.float32)\n",
    "test_labels = (test_labels).astype(np.int64)\n",
    "m = train_images.shape[0]"
   ]
  },
  {
   "cell_type": "markdown",
   "metadata": {},
   "source": [
    "<b> Create Generator and Discriminator Models </b>"
   ]
  },
  {
   "cell_type": "code",
   "execution_count": 6,
   "metadata": {},
   "outputs": [],
   "source": [
    "def create_generator_model():\n",
    "#     generator_model = tf.keras.models.Sequential([\n",
    "#         tf.keras.layers.Dense(1, input_shape=(1,), activation='relu'),\n",
    "#         tf.keras.layers.Dense(10, activation='relu'),\n",
    "#         tf.keras.layers.Dense(100, activation='relu'),\n",
    "#         tf.keras.layers.Dense(28*28, activation='sigmoid'),\n",
    "#         tf.keras.layers.Reshape([28, 28, 1])\n",
    "#     ])\n",
    "    generator_model = tf.keras.models.Sequential([\n",
    "        tf.keras.layers.Dense(100, activation='selu', input_shape=[codings_size]),\n",
    "        tf.keras.layers.Dense(150, activation='selu'),\n",
    "        tf.keras.layers.Dense(28*28, activation='sigmoid'),\n",
    "        tf.keras.layers.Reshape([28,28])\n",
    "    ])\n",
    "    return generator_model\n",
    "def create_discriminator_model():\n",
    "#     discriminator_model = tf.keras.models.Sequential([\n",
    "#         tf.keras.layers.Flatten(input_shape=(28*28,)),\n",
    "#         tf.keras.layers.Dense(28*28, activation='relu'),\n",
    "#         tf.keras.layers.Dense(100, activation='relu'),\n",
    "#         tf.keras.layers.Dense(10, activation='relu'),\n",
    "#         tf.keras.layers.Dense(1, activation='sigmoid')\n",
    "#     ])\n",
    "    discriminator_model = tf.keras.models.Sequential([\n",
    "        tf.keras.layers.Flatten(input_shape=[28,28]),\n",
    "        tf.keras.layers.Dense(150, activation='selu'),\n",
    "        tf.keras.layers.Dense(100, activation='selu'),\n",
    "        tf.keras.layers.Dense(1, activation='sigmoid')\n",
    "    ])\n",
    "    return discriminator_model\n",
    "\n",
    "gan = tf.keras.models.Sequential([create_generator_model(), create_discriminator_model()])"
   ]
  },
  {
   "cell_type": "code",
   "execution_count": 12,
   "metadata": {},
   "outputs": [],
   "source": [
    "def generate_fake_images(m, generator_model):\n",
    "    # Fake Images from the Generator\n",
    "    random_fake_indexes = tf.random.normal([m, codings_size])\n",
    "#     print(random_fake_indexes)\n",
    "    random_fake_images = generator_model(random_fake_indexes, training=True)\n",
    "    random_fake_images = tf.reshape(random_fake_images, (m, 28, 28, 1))\n",
    "    random_fake_labels = np.zeros((m, 1))\n",
    "    return random_fake_images, random_fake_labels\n",
    "\n",
    "def discriminator_training_forward_pass(train_images, generator_model):\n",
    "    # Real Images from Database\n",
    "    m = train_images.shape[0]\n",
    "    random_real_indexes = np.random.randint(0, m, m)\n",
    "    random_real_images = train_images[random_real_indexes, ...]\n",
    "    random_real_labels = np.ones((m, 1))\n",
    "\n",
    "    # Fake Images from the Generator\n",
    "    random_fake_images, random_fake_labels = generate_fake_images(m, generator_model)\n",
    "    \n",
    "    assert random_fake_images.shape == random_real_images.shape, 'image shape problem'\n",
    "    assert random_fake_labels.shape == random_real_labels.shape, \"label shape problem\"\n",
    "\n",
    "    # Combining Real and Fake Images\n",
    "    discriminator_images = np.vstack([random_real_images, random_fake_images])\n",
    "    discriminator_labels = np.vstack([random_real_labels, random_fake_labels])\n",
    "\n",
    "    # shuffling images\n",
    "    indices = list(range(discriminator_images.shape[0]))\n",
    "#     np.random.shuffle(indices)\n",
    "    discriminator_images = discriminator_images[indices]\n",
    "    discriminator_labels = discriminator_labels[indices]\n",
    "\n",
    "    return discriminator_images, discriminator_labels"
   ]
  },
  {
   "cell_type": "code",
   "execution_count": 8,
   "metadata": {},
   "outputs": [],
   "source": [
    "generator, discriminator = gan.layers"
   ]
  },
  {
   "cell_type": "code",
   "execution_count": 13,
   "metadata": {
    "scrolled": true
   },
   "outputs": [
    {
     "name": "stdout",
     "output_type": "stream",
     "text": [
      "discriminator epoch: 1, acc_score: 1.0, discriminator loss: 0.018372999504208565\n"
     ]
    }
   ],
   "source": [
    "# Train Discriminator\n",
    "discriminator.trainable = True\n",
    "e = 1\n",
    "# for idx in tqdm(range(0, m, batch_size)): # batch\n",
    "for idx in range(0, m, batch_size): # batch\n",
    "    images = train_images[idx:idx+batch_size, ...]\n",
    "\n",
    "    with tf.GradientTape() as tape:\n",
    "        discriminator_images, discriminator_labels = discriminator_training_forward_pass(images, generator)\n",
    "\n",
    "        # Forward Pass Through Discriminator\n",
    "        discriminator_output = discriminator(discriminator_images, training=True)\n",
    "\n",
    "        discriminator_loss = tf.keras.losses.binary_crossentropy(discriminator_labels, discriminator_output)\n",
    "    discriminator_gradients = tape.gradient(discriminator_loss, discriminator.trainable_weights)\n",
    "    discriminator_optimizer = tf.keras.optimizers.RMSprop()\n",
    "    discriminator_optimizer.apply_gradients(zip(discriminator_gradients, discriminator.trainable_weights))\n",
    "\n",
    "    predicted_labels = discriminator_output.numpy().flatten().round()\n",
    "    acc_score = accuracy_score(discriminator_labels.flatten(), predicted_labels)\n",
    "    # print(acc_score)\n",
    "    clear_output()\n",
    "    print(f\"discriminator epoch: {e}, acc_score: {acc_score}, discriminator loss: {np.round(tf.reduce_sum(discriminator_loss), 6)}\")\n",
    "    if acc_score == 1.0:\n",
    "        break"
   ]
  },
  {
   "cell_type": "code",
   "execution_count": 14,
   "metadata": {
    "scrolled": true
   },
   "outputs": [
    {
     "name": "stdout",
     "output_type": "stream",
     "text": [
      "discriminator epoch: 1, acc_score: 0.0, discriminator loss: 493.5983581542969\n"
     ]
    }
   ],
   "source": [
    "# Train Generator\n",
    "discriminator.trainable = False\n",
    "e = 1\n",
    "# for idx in tqdm(range(0, m, batch_size)): # batch\n",
    "for idx in range(0, m, batch_size): # batch\n",
    "    images = train_images[idx:idx+batch_size, ...]\n",
    "    random_fake_indexes = tf.random.normal([batch_size, codings_size])\n",
    "    true_labels = tf.ones([batch_size, 1])\n",
    "    \n",
    "    with tf.GradientTape() as tape:\n",
    "        generator_images = generator(random_fake_indexes)\n",
    "        \n",
    "        # Forward Pass Through Discriminator\n",
    "        discriminator_output = discriminator(generator_images, training=True)\n",
    "        discriminator_loss = tf.keras.losses.binary_crossentropy(true_labels, discriminator_output)\n",
    "        \n",
    "    generator_gradients = tape.gradient(discriminator_loss, gan.trainable_weights)\n",
    "    generator_optimizer = tf.keras.optimizers.RMSprop()\n",
    "    generator_optimizer.apply_gradients(zip(generator_gradients, gan.trainable_weights))\n",
    "    \n",
    "    discriminator_output_labels = discriminator_output.numpy().round().flatten()\n",
    "    acc_score = accuracy_score(true_labels, discriminator_output_labels)\n",
    "    clear_output()\n",
    "    print(f\"discriminator epoch: {e}, acc_score: {acc_score}, discriminator loss: {np.round(tf.reduce_sum(discriminator_loss), 6)}\")\n",
    "    if acc_score == 1.0:\n",
    "        break\n",
    "    \n",
    "    break"
   ]
  },
  {
   "cell_type": "code",
   "execution_count": null,
   "metadata": {},
   "outputs": [],
   "source": []
  },
  {
   "cell_type": "markdown",
   "metadata": {},
   "source": [
    "<h3>Show Generated Images</h3>"
   ]
  },
  {
   "cell_type": "code",
   "execution_count": 15,
   "metadata": {},
   "outputs": [
    {
     "data": {
      "text/plain": [
       "<matplotlib.image.AxesImage at 0x2207daff308>"
      ]
     },
     "execution_count": 15,
     "metadata": {},
     "output_type": "execute_result"
    },
    {
     "data": {
      "image/png": "[encoded data removed]",
      "text/plain": [
       "<Figure size 432x288 with 1 Axes>"
      ]
     },
     "metadata": {
      "needs_background": "light"
     },
     "output_type": "display_data"
    }
   ],
   "source": [
    "plt.imshow(generator(tf.random.normal([1,codings_size]))[0])"
   ]
  }
 ],
 "metadata": {
  "kernelspec": {
   "display_name": "Python 3",
   "language": "python",
   "name": "python3"
  },
  "language_info": {
   "codemirror_mode": {
    "name": "ipython",
    "version": 3
   },
   "file_extension": ".py",
   "mimetype": "text/x-python",
   "name": "python",
   "nbconvert_exporter": "python",
   "pygments_lexer": "ipython3",
   "version": "3.7.6"
  }
 },
 "nbformat": 4,
 "nbformat_minor": 4
}
